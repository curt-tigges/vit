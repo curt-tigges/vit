{
 "cells": [
  {
   "cell_type": "code",
   "execution_count": 1,
   "metadata": {},
   "outputs": [],
   "source": [
    "import pytorch_lightning as pl\n",
    "import wandb\n",
    "\n",
    "# Import custom modules\n",
    "from data.cifar100 import CIFAR100DataModule\n",
    "from vision_transformer.models.pl_model import ViTModel"
   ]
  },
  {
   "cell_type": "markdown",
   "metadata": {},
   "source": [
    "## 1. Set Up Hyperparameter Sweep"
   ]
  },
  {
   "cell_type": "code",
   "execution_count": null,
   "metadata": {},
   "outputs": [],
   "source": [
    "sweep_config = {\n",
    "    'method': 'random'\n",
    "    }"
   ]
  },
  {
   "cell_type": "code",
   "execution_count": null,
   "metadata": {},
   "outputs": [],
   "source": [
    "metric = {\n",
    "    'name': 'val_loss',\n",
    "    'goal': 'minimize'   \n",
    "    }\n",
    "\n",
    "sweep_config['metric'] = metric"
   ]
  },
  {
   "cell_type": "code",
   "execution_count": null,
   "metadata": {},
   "outputs": [],
   "source": [
    "parameters_dict = {\n",
    "    'batch_size': {\n",
    "        'values': [64, 128, 256]\n",
    "        },\n",
    "    'num_encoders': {\n",
    "        'values': [12, 24, 36]\n",
    "        },\n",
    "    'patch_size': {\n",
    "        'values': [4, 8, 16]\n",
    "        },\n",
    "    'learning_rate': {\n",
    "        'values': [0.01, 0.003, 0.001, 0.0003, 0.0001]\n",
    "        }\n",
    "    }\n",
    "\n",
    "sweep_config['parameters'] = parameters_dict"
   ]
  },
  {
   "cell_type": "code",
   "execution_count": 2,
   "metadata": {},
   "outputs": [],
   "source": [
    "model_kwargs = {\n",
    "    \"embed_size\":256, \n",
    "    \"hidden_size\":512,\n",
    "    \"hidden_class_size\":512, \n",
    "    \"num_encoders\":24,\n",
    "    \"num_heads\":8,\n",
    "    \"patch_size\":4,\n",
    "    \"num_patches\":64,\n",
    "    \"dropout\":0.1,\n",
    "    \"batch_size\":256,\n",
    "    \"learning_rate\":0.001\n",
    "}\n"
   ]
  },
  {
   "cell_type": "code",
   "execution_count": 3,
   "metadata": {},
   "outputs": [],
   "source": [
    "CIFAR = \"/media/curttigges/project-files/datasets/cifar-100/\"\n",
    "cifar100 = CIFAR100DataModule(batch_size=model_kwargs[\"batch_size\"], num_workers=12,data_dir=CIFAR)"
   ]
  },
  {
   "cell_type": "code",
   "execution_count": 4,
   "metadata": {},
   "outputs": [
    {
     "name": "stderr",
     "output_type": "stream",
     "text": [
      "Failed to detect the name of this notebook, you can set it manually with the WANDB_NOTEBOOK_NAME environment variable to enable code saving.\n",
      "\u001b[34m\u001b[1mwandb\u001b[0m: Currently logged in as: \u001b[33mcurt-tigges\u001b[0m (\u001b[33mascendant\u001b[0m). Use \u001b[1m`wandb login --relogin`\u001b[0m to force relogin\n"
     ]
    },
    {
     "data": {
      "text/html": [
       "Tracking run with wandb version 0.12.17"
      ],
      "text/plain": [
       "<IPython.core.display.HTML object>"
      ]
     },
     "metadata": {},
     "output_type": "display_data"
    },
    {
     "data": {
      "text/html": [
       "Run data is saved locally in <code>/home/curttigges/projects/vit/wandb/run-20220606_165733-27ds2h4r</code>"
      ],
      "text/plain": [
       "<IPython.core.display.HTML object>"
      ]
     },
     "metadata": {},
     "output_type": "display_data"
    },
    {
     "data": {
      "text/html": [
       "Syncing run <strong><a href=\"https://wandb.ai/ascendant/vit-classifier/runs/27ds2h4r\" target=\"_blank\">light-totem-27</a></strong> to <a href=\"https://wandb.ai/ascendant/vit-classifier\" target=\"_blank\">Weights & Biases</a> (<a href=\"https://wandb.me/run\" target=\"_blank\">docs</a>)<br/>"
      ],
      "text/plain": [
       "<IPython.core.display.HTML object>"
      ]
     },
     "metadata": {},
     "output_type": "display_data"
    },
    {
     "data": {
      "text/html": [
       "<button onClick=\"this.nextSibling.style.display='block';this.style.display='none';\">Display W&B run</button><iframe src=\"https://wandb.ai/ascendant/vit-classifier/runs/27ds2h4r?jupyter=true\" style=\"border:none;width:100%;height:420px;display:none;\"></iframe>"
      ],
      "text/plain": [
       "<wandb.sdk.wandb_run.Run at 0x7fb762fcc310>"
      ]
     },
     "execution_count": 4,
     "metadata": {},
     "output_type": "execute_result"
    }
   ],
   "source": [
    "wandb.init(\n",
    "        project=\"vit-classifier\", \n",
    "        entity=\"ascendant\",\n",
    "        config = {\n",
    "        \"batch_size\":model_kwargs[\"batch_size\"],\n",
    "        \"embed_size\":model_kwargs[\"embed_size\"], \n",
    "        \"hidden_size\":model_kwargs[\"hidden_size\"],\n",
    "        \"hidden_class_size\":model_kwargs[\"hidden_class_size\"], \n",
    "        \"num_encoders\":model_kwargs[\"num_encoders\"],\n",
    "        \"num_heads\":model_kwargs[\"num_heads\"],\n",
    "        \"patch_size\":model_kwargs[\"patch_size\"],\n",
    "        \"num_patches\":model_kwargs[\"num_patches\"],\n",
    "        \"dropout\":model_kwargs[\"dropout\"],\n",
    "        \"learning_rate\":model_kwargs[\"learning_rate\"],\n",
    "        \"scheduler\":\"OneCycleLR\",\n",
    "        \"loss\":\"CrossEntropy\"\n",
    "        })"
   ]
  },
  {
   "cell_type": "code",
   "execution_count": 5,
   "metadata": {},
   "outputs": [
    {
     "name": "stderr",
     "output_type": "stream",
     "text": [
      "Global seed set to 42\n",
      "GPU available: True, used: True\n",
      "TPU available: False, using: 0 TPU cores\n",
      "IPU available: False, using: 0 IPUs\n",
      "HPU available: False, using: 0 HPUs\n"
     ]
    },
    {
     "name": "stdout",
     "output_type": "stream",
     "text": [
      "Files already downloaded and verified\n",
      "Files already downloaded and verified\n"
     ]
    },
    {
     "name": "stderr",
     "output_type": "stream",
     "text": [
      "Missing logger folder: /home/curttigges/projects/vit/lightning_logs\n",
      "Global seed set to 42\n",
      "Global seed set to 42\n",
      "LOCAL_RANK: 0 - CUDA_VISIBLE_DEVICES: [0]\n",
      "\n",
      "  | Name  | Type          | Params\n",
      "----------------------------------------\n",
      "0 | model | ViTClassifier | 12.9 M\n",
      "----------------------------------------\n",
      "12.9 M    Trainable params\n",
      "0         Non-trainable params\n",
      "12.9 M    Total params\n",
      "51.451    Total estimated model params size (MB)\n"
     ]
    },
    {
     "name": "stdout",
     "output_type": "stream",
     "text": [
      "Epoch 10:   5%|▌         | 10/196 [05:47<1:47:49, 34.78s/it, loss=3.26, v_num=0, val_loss=3.040, val_acc=0.253]"
     ]
    },
    {
     "name": "stderr",
     "output_type": "stream",
     "text": [
      "/home/curttigges/miniconda3/envs/pytorch-dl/lib/python3.7/site-packages/pytorch_lightning/trainer/trainer.py:724: UserWarning: Detected KeyboardInterrupt, attempting graceful shutdown...\n",
      "  rank_zero_warn(\"Detected KeyboardInterrupt, attempting graceful shutdown...\")\n"
     ]
    },
    {
     "data": {
      "text/html": [
       "Waiting for W&B process to finish... <strong style=\"color:green\">(success).</strong>"
      ],
      "text/plain": [
       "<IPython.core.display.HTML object>"
      ]
     },
     "metadata": {},
     "output_type": "display_data"
    },
    {
     "data": {
      "application/vnd.jupyter.widget-view+json": {
       "model_id": "0b4a385a7b244185adf5a0e676ea0f29",
       "version_major": 2,
       "version_minor": 0
      },
      "text/plain": [
       "VBox(children=(Label(value='0.001 MB of 0.001 MB uploaded (0.000 MB deduped)\\r'), FloatProgress(value=1.0, max…"
      ]
     },
     "metadata": {},
     "output_type": "display_data"
    },
    {
     "data": {
      "text/html": [
       "<style>\n",
       "    table.wandb td:nth-child(1) { padding: 0 10px; text-align: left ; width: auto;} td:nth-child(2) {text-align: left ; width: 100%}\n",
       "    .wandb-row { display: flex; flex-direction: row; flex-wrap: wrap; justify-content: flex-start; width: 100% }\n",
       "    .wandb-col { display: flex; flex-direction: column; flex-basis: 100%; flex: 1; padding: 10px; }\n",
       "    </style>\n",
       "<div class=\"wandb-row\"><div class=\"wandb-col\"><h3>Run history:</h3><br/><table class=\"wandb\"><tr><td>loss</td><td>█▇▇▆▆▆▅▆▆▅▅▅▅▄▅▅▄▅▄▅▄▄▄▄▃▄▄▄▃▂▃▃▂▁▂▃▂▁▂▁</td></tr><tr><td>val_acc</td><td>▁▃▃▂▂▃▃▂▃▄▄▃▃▄▄▃▅▄▄▅▆▅▄▅▆▆▅▆▆▆▆▇▆▇▇█▇█▇▇</td></tr><tr><td>val_loss</td><td>█▆▆▆▆▅▅▅▆▄▄▄▅▄▄▄▃▄▄▄▃▃▃▃▂▂▂▂▂▂▂▁▂▂▂▁▂▁▁▂</td></tr></table><br/></div><div class=\"wandb-col\"><h3>Run summary:</h3><br/><table class=\"wandb\"><tr><td>loss</td><td>3.3175</td></tr><tr><td>val_acc</td><td>0.23529</td></tr><tr><td>val_loss</td><td>3.3047</td></tr></table><br/></div></div>"
      ],
      "text/plain": [
       "<IPython.core.display.HTML object>"
      ]
     },
     "metadata": {},
     "output_type": "display_data"
    },
    {
     "data": {
      "text/html": [
       "Synced <strong style=\"color:#cdcd00\">light-totem-27</strong>: <a href=\"https://wandb.ai/ascendant/vit-classifier/runs/27ds2h4r\" target=\"_blank\">https://wandb.ai/ascendant/vit-classifier/runs/27ds2h4r</a><br/>Synced 6 W&B file(s), 0 media file(s), 0 artifact file(s) and 0 other file(s)"
      ],
      "text/plain": [
       "<IPython.core.display.HTML object>"
      ]
     },
     "metadata": {},
     "output_type": "display_data"
    },
    {
     "data": {
      "text/html": [
       "Find logs at: <code>./wandb/run-20220606_165733-27ds2h4r/logs</code>"
      ],
      "text/plain": [
       "<IPython.core.display.HTML object>"
      ]
     },
     "metadata": {},
     "output_type": "display_data"
    }
   ],
   "source": [
    "from pytorch_lightning.callbacks import TQDMProgressBar\n",
    "pl.seed_everything(42)\n",
    "model = ViTModel(**model_kwargs)\n",
    "trainer = pl.Trainer(max_epochs=60,accelerator='gpu', devices=1, callbacks=[TQDMProgressBar(refresh_rate=10)])\n",
    "trainer.fit(model, datamodule=cifar100)\n",
    "wandb.finish()"
   ]
  },
  {
   "cell_type": "code",
   "execution_count": null,
   "metadata": {},
   "outputs": [],
   "source": []
  }
 ],
 "metadata": {
  "interpreter": {
   "hash": "af51f29a878ae3a8f8e9f6c4ebe8e1dfd1996d87171925dc7d5b6a703abf9b9c"
  },
  "kernelspec": {
   "display_name": "Python 3.7.10 ('pytorch-dl')",
   "language": "python",
   "name": "python3"
  },
  "language_info": {
   "codemirror_mode": {
    "name": "ipython",
    "version": 3
   },
   "file_extension": ".py",
   "mimetype": "text/x-python",
   "name": "python",
   "nbconvert_exporter": "python",
   "pygments_lexer": "ipython3",
   "version": "3.7.10"
  },
  "orig_nbformat": 4
 },
 "nbformat": 4,
 "nbformat_minor": 2
}
